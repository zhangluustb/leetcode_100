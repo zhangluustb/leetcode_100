{
  "nbformat": 4,
  "nbformat_minor": 0,
  "metadata": {
    "colab": {
      "provenance": [],
      "authorship_tag": "ABX9TyO+1LR1Bljt3eBuQK3xXeU6",
      "include_colab_link": true
    },
    "kernelspec": {
      "name": "python3",
      "display_name": "Python 3"
    },
    "language_info": {
      "name": "python"
    }
  },
  "cells": [
    {
      "cell_type": "markdown",
      "metadata": {
        "id": "view-in-github",
        "colab_type": "text"
      },
      "source": [
        "<a href=\"https://colab.research.google.com/github/zhangluustb/leetcode_100/blob/main/692.ipynb\" target=\"_parent\"><img src=\"https://colab.research.google.com/assets/colab-badge.svg\" alt=\"Open In Colab\"/></a>"
      ]
    },
    {
      "cell_type": "code",
      "execution_count": 1,
      "metadata": {
        "colab": {
          "base_uri": "https://localhost:8080/"
        },
        "id": "c01VR9dhfFfb",
        "outputId": "b0cfc19d-c2e0-4c08-9c1d-163980133f22"
      },
      "outputs": [
        {
          "output_type": "stream",
          "name": "stdout",
          "text": [
            "{'i': 3, 'love': 2, 'leetcode': 1, 'coding': 1, 'apple': 2}\n",
            "[('i', 3), ('love', 2), ('apple', 2), ('leetcode', 1), ('coding', 1)]\n",
            "[('i', 3), ('love', 2), ('apple', 2), ('leetcode', 1), ('coding', 1)]\n"
          ]
        }
      ],
      "source": [
        "import functools\n",
        "words = [\"i\", \"love\", \"leetcode\", \"i\", \"love\", \"coding\",\"i\",\"apple\",\"apple\"]\n",
        "k = 2\n",
        "\n",
        "d={}\n",
        "for w in words:\n",
        "    if w not in d:\n",
        "        d[w]=1\n",
        "    else:\n",
        "        d[w]+=1\n",
        "print(d)\n",
        "\n",
        "def cmp(a,b):\n",
        "    if a[1] > b[1] :\n",
        "        return -1\n",
        "    elif a[1] < b[1] :\n",
        "        return 1\n",
        "    else:\n",
        "        if a[0]>b[0]:\n",
        "            return -1\n",
        "        else:\n",
        "            return 1\n",
        "        return 0\n",
        "print(sorted(d.items(),key=lambda x:x[1],reverse=True))\n",
        "print(sorted(d.items(),key=functools.cmp_to_key(cmp),reverse=False)) "
      ]
    },
    {
      "cell_type": "code",
      "source": [
        "# hashtable+heap\n",
        "import heapq\n",
        "\n",
        "class MyHeap(object):\n",
        "    def __init__(self, initial=None, key=lambda x:-x[1]):\n",
        "        self.key = key\n",
        "        self.index = 0\n",
        "        if initial:\n",
        "            self._data = [(key(item), i, item) for i, item in enumerate(initial)]\n",
        "            self.index = len(self._data)\n",
        "            heapq.heapify(self._data)\n",
        "        else:\n",
        "            self._data = []\n",
        "\n",
        "    def push(self, item):\n",
        "        heapq.heappush(self._data, (self.key(item), self.index, item))\n",
        "        self.index += 1\n",
        "\n",
        "    def pop(self):\n",
        "        return heapq.heappop(self._data)[2]\n",
        "h=MyHeap()\n",
        "for k,v in d.items():\n",
        "    h.push((k,v)) \n",
        "for i in range(3):\n",
        "    print(h.pop())"
      ],
      "metadata": {
        "colab": {
          "base_uri": "https://localhost:8080/"
        },
        "id": "8dce8rNxfHwc",
        "outputId": "4cf5adfd-862e-4769-e659-9d9e33cbef55"
      },
      "execution_count": 2,
      "outputs": [
        {
          "output_type": "stream",
          "name": "stdout",
          "text": [
            "('i', 3)\n",
            "('love', 2)\n",
            "('apple', 2)\n"
          ]
        }
      ]
    },
    {
      "cell_type": "code",
      "source": [],
      "metadata": {
        "id": "EW5f4HcyfIeb"
      },
      "execution_count": null,
      "outputs": []
    }
  ]
}